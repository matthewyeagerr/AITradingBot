{
 "cells": [
  {
   "cell_type": "code",
   "execution_count": 2,
   "id": "6520d738",
   "metadata": {},
   "outputs": [],
   "source": [
    "import alpaca_trade_api as tradeapi\n",
    "\n",
    "key = \"PKI8CTPYSJCSYQMWQO3O\"\n",
    "secret_key=\"abt12oNpdtGU1fs2SQ1bACReT5JH8cwMMIkpKN8g\"\n",
    "BASE_URL = \"https://paper-api.alpaca.markets/v2\"\n",
    "\n",
    "\n",
    "api = tradeapi.REST(key, secret_key, BASE_URL, api_version='v2')\n"
   ]
  },
  {
   "cell_type": "code",
   "execution_count": 5,
   "id": "83ae92e3",
   "metadata": {},
   "outputs": [
    {
     "data": {
      "text/plain": [
       "{'price': 214.43}"
      ]
     },
     "execution_count": 5,
     "metadata": {},
     "output_type": "execute_result"
    }
   ],
   "source": [
    "def get_data(symbol):\n",
    "    try:\n",
    "        barset = api.get_latest_trade(symbol)\n",
    "        return{\"price\":barset.price}\n",
    "    except Exception as e:\n",
    "        return {\"price\":-1}\n",
    "    \n",
    "get_data(\"AAPL\")"
   ]
  }
 ],
 "metadata": {
  "kernelspec": {
   "display_name": "Python 3",
   "language": "python",
   "name": "python3"
  },
  "language_info": {
   "codemirror_mode": {
    "name": "ipython",
    "version": 3
   },
   "file_extension": ".py",
   "mimetype": "text/x-python",
   "name": "python",
   "nbconvert_exporter": "python",
   "pygments_lexer": "ipython3",
   "version": "3.11.9"
  }
 },
 "nbformat": 4,
 "nbformat_minor": 5
}
